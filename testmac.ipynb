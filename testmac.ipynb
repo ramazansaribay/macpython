{
 "metadata": {
  "language_info": {
   "codemirror_mode": {
    "name": "ipython",
    "version": 3
   },
   "file_extension": ".py",
   "mimetype": "text/x-python",
   "name": "python",
   "nbconvert_exporter": "python",
   "pygments_lexer": "ipython3",
   "version": 3
  },
  "orig_nbformat": 2,
  "kernelspec": {
   "name": "python_defaultSpec_1597004025723",
   "display_name": "Python 3.8.5 64-bit"
  }
 },
 "nbformat": 4,
 "nbformat_minor": 2,
 "cells": [
  {
   "cell_type": "code",
   "execution_count": 14,
   "metadata": {
    "tags": []
   },
   "outputs": [
    {
     "output_type": "stream",
     "name": "stdout",
     "text": "0\n1\n4\n"
    }
   ],
   "source": [
    "number = int(input('Please enter a number: '))\n",
    "count = 0\n",
    "while number > 0 and count < number:\n",
    "    print((count)**2)\n",
    "    count += 1"
   ]
  },
  {
   "cell_type": "code",
   "execution_count": 16,
   "metadata": {
    "tags": []
   },
   "outputs": [
    {
     "output_type": "stream",
     "name": "stdout",
     "text": "The type of {'section': 5, 'topic': 2} is <class 'dict'>.\nThe type of clarusway is <class 'str'>.\nThe type of [1, 4] is <class 'list'>.\nThe type of 2020 is <class 'int'>.\nThe type of 3.14 is <class 'float'>.\nThe type of (1+618j) is <class 'complex'>.\nThe type of False is <class 'bool'>.\nThe type of (10, 20) is <class 'tuple'>.\n"
    }
   ],
   "source": [
    "sample_list = [{\"section\":5, \"topic\":2}, 'clarusway', [1, 4], 2020, 3.14, 1+618j, False, (10, 20)]\n",
    "for i in sample_list:\n",
    "    print(f\"The type of {i} is {type(i)}.\")"
   ]
  },
  {
   "cell_type": "code",
   "execution_count": 57,
   "metadata": {
    "tags": []
   },
   "outputs": [
    {
     "output_type": "stream",
     "name": "stdout",
     "text": "Hello, 371! See you later.\n"
    }
   ],
   "source": [
    "name = input(\"Write your name please:  \")\n",
    "real_name = \"Ramazan\"\n",
    "if name.capitalize() == real_name:\n",
    "    print(f\"Hello, {real_name}! The password is : W@12\")\n",
    "else:\n",
    "    print(f\"Hello, {name.capitalize()}! See you later.\")"
   ]
  },
  {
   "cell_type": "code",
   "execution_count": 120,
   "metadata": {
    "tags": []
   },
   "outputs": [
    {
     "output_type": "stream",
     "name": "stdout",
     "text": "99 is not an Armstrong number\n"
    }
   ],
   "source": [
    "number = input(\"Please enter a number:  \")\n",
    "digits = len(number)\n",
    "new_number = 0\n",
    "if int(number) >= 0:\n",
    "    for i in range(digits):\n",
    "        new_number += int(number[i]) ** digits\n",
    "    if new_number == int(number):\n",
    "        print(f\"{number} is an Armstrong number\")\n",
    "    else:\n",
    "        print(f\"{number} is not an Armstrong number\")\n",
    "        \n",
    "\n",
    "    \n",
    "\n",
    "\n",
    "\n"
   ]
  },
  {
   "cell_type": "code",
   "execution_count": 119,
   "metadata": {
    "tags": []
   },
   "outputs": [
    {
     "output_type": "stream",
     "name": "stdout",
     "text": "[2, 3, 5, 7, 11, 13, 17, 19, 23, 29, 31, 37, 41, 43, 47, 53, 59, 61, 67, 71, 73, 79, 83, 89, 97]\n"
    }
   ],
   "source": [
    "n = 100\n",
    "empty = []\n",
    "for a in range(2, n+1):\n",
    "    for b in range(2, a):\n",
    "        if a % b == 0:\n",
    "            break\n",
    "    else:\n",
    "        empty.append(a)\n",
    "print(empty)"
   ]
  },
  {
   "cell_type": "code",
   "execution_count": 118,
   "metadata": {
    "tags": []
   },
   "outputs": [
    {
     "output_type": "stream",
     "name": "stdout",
     "text": "[2, 3, 4, 5, 6, 7, 8, 9]\n"
    }
   ],
   "source": [
    "print(list(range(2,10)))"
   ]
  },
  {
   "cell_type": "code",
   "execution_count": 6,
   "metadata": {
    "tags": []
   },
   "outputs": [
    {
     "output_type": "stream",
     "name": "stdout",
     "text": "[1, 2, 'Fizz', 4, 'Buzz', 'Fizz', 7, 8, 'Fizz', 'Buzz', 11, 'Fizz', 13, 14, 'FizzBuzz', 16, 17, 'Fizz', 19, 'Buzz', 'Fizz', 22, 23, 'Fizz', 'Buzz', 26, 'Fizz', 28, 29, 'FizzBuzz', 31, 32, 'Fizz', 34, 'Buzz', 'Fizz', 37, 38, 'Fizz', 'Buzz', 41, 'Fizz', 43, 44, 'FizzBuzz', 46, 47, 'Fizz', 49, 'Buzz', 'Fizz', 52, 53, 'Fizz', 'Buzz', 56, 'Fizz', 58, 59, 'FizzBuzz', 61, 62, 'Fizz', 64, 'Buzz', 'Fizz', 67, 68, 'Fizz', 'Buzz', 71, 'Fizz', 73, 74, 'FizzBuzz', 76, 77, 'Fizz', 79, 'Buzz', 'Fizz', 82, 83, 'Fizz', 'Buzz', 86, 'Fizz', 88, 89, 'FizzBuzz', 91, 92, 'Fizz', 94, 'Buzz', 'Fizz', 97, 98, 'Fizz', 'Buzz']\n"
    }
   ],
   "source": [
    "sayi = list(range(1,101))\n",
    "boz = []\n",
    "for i in sayi:\n",
    "    if i % 15 == 0:\n",
    "        boz.append(\"FizzBuzz\")\n",
    "    elif i % 5 == 0:\n",
    "        boz.append(\"Buzz\")\n",
    "    elif i % 3 == 0:\n",
    "        boz.append(\"Fizz\")\n",
    "    else:\n",
    "        boz.append(i)\n",
    "print(boz) "
   ]
  },
  {
   "cell_type": "code",
   "execution_count": 45,
   "metadata": {
    "tags": []
   },
   "outputs": [
    {
     "output_type": "stream",
     "name": "stdout",
     "text": "- - - - - - - - - - -\n0 0 0 | 0 6 4 | 0 0 0 \n| 7 0 0 | 0 0 0 | 3 9 0 \n| 8 0 0 | 0 0 0 | 0 0 0 \n- - - - - - - - - - -\n| 0 0 0 | 5 0 2 | 0 6 0 \n| 0 8 0 | 4 0 0 | 0 0 0 \n| 3 5 0 | 6 0 0 | 0 7 0 \n- - - - - - - - - - -\n| 0 0 2 | 0 0 0 | 1 0 3 \n| 0 0 1 | 0 5 9 | 0 0 0 \n| 0 0 0 | 0 0 0 | 7 0 0 \n- - - - - - - - - - -\n|"
    }
   ],
   "source": [
    "sudoku = [\n",
    "    [0, 0, 0, 0, 6, 4, 0, 0, 0],\n",
    "    [7, 0, 0, 0, 0, 0, 3, 9, 0],\n",
    "    [8, 0, 0, 0, 0, 0, 0, 0, 0],\n",
    "    [0, 0, 0, 5, 0, 2, 0, 6, 0],\n",
    "    [0, 8, 0, 4, 0, 0, 0, 0, 0],\n",
    "    [3, 5, 0, 6, 0, 0, 0, 7, 0],\n",
    "    [0, 0, 2, 0, 0, 0, 1, 0, 3],\n",
    "    [0, 0, 1, 0, 5, 9, 0, 0, 0],\n",
    "    [0, 0, 0, 0, 0, 0, 7, 0, 0]\n",
    "]\n",
    "count = 0\n",
    "print(\"- - - - - - - - - - -\")  \n",
    "for i in sudoku:\n",
    "    for j in range(9):\n",
    "        print(i[j],\"\", end=\"\")\n",
    "        if (j+1) == 9:\n",
    "            print()\n",
    "            count += 1\n",
    "            if count % 3 == 0:\n",
    "                print(\"- - - - - - - - - - -\")   \n",
    "        if (j+1) % 3 == 0 and j != 8:\n",
    "            print(\"| \", end=\"\")\n",
    "\n",
    "    "
   ]
  },
  {
   "cell_type": "code",
   "execution_count": null,
   "metadata": {},
   "outputs": [],
   "source": [
    "if i % 3 == 0 and i < 9:\n",
    "    sudoku.insert[i, Z]\n",
    "- - - - - - - - - - - - - - - \n",
    "0  0  0  | 0  6  4  | 0  0  0  \n",
    "7  0  0  | 0  0  0  | 3  9  0  \n",
    "8  0  0  | 0  0  0  | 0  0  0  \n",
    "- - - - - - - - - - - - - - - \n",
    "0  0  0  | 5  0  2  | 0  6  0  \n",
    "0  8  0  | 4  0  0  | 0  0  0  \n",
    "3  5  0  | 6  0  0  | 0  7  0  \n",
    "- - - - - - - - - - - - - - - \n",
    "0  0  2  | 0  0  0  | 1  0  3  \n",
    "0  0  1  | 0  5  9  | 0  0  0  \n",
    "0  0  0  | 0  0  0  | 7  0  0  \n",
    "- - - - - - - - - - - - - - -"
   ]
  }
 ]
}